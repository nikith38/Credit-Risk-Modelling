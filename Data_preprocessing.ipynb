{
 "cells": [
  {
   "cell_type": "code",
   "execution_count": 19,
   "id": "dc2f259e-25df-4750-a046-1f54de1f4cfc",
   "metadata": {},
   "outputs": [],
   "source": [
    "# Import necessary libraries\n",
    "import numpy as np\n",
    "import pandas as pd\n",
    "import matplotlib.pyplot as plt\n",
    "from sklearn.metrics import r2_score\n",
    "from scipy.stats import chi2_contingency\n",
    "from statsmodels.stats.outliers_influence import variance_inflation_factor\n",
    "from sklearn.model_selection import train_test_split\n",
    "from sklearn.ensemble import RandomForestClassifier\n",
    "from sklearn.metrics import accuracy_score, classification_report, precision_recall_fscore_support\n",
    "import warnings\n",
    "import os"
   ]
  },
  {
   "cell_type": "code",
   "execution_count": 11,
   "id": "b4e4ddaa-24f8-4466-86ae-175115994992",
   "metadata": {},
   "outputs": [],
   "source": [
    "a1=pd.read_excel(r\"C:\\Users\\majet\\Desktop\\Credit_Risk_Modelling\\case_study1.xlsx\")"
   ]
  },
  {
   "cell_type": "code",
   "execution_count": 13,
   "id": "c4bf88c6-cef0-4805-bf6f-bed792f32cbf",
   "metadata": {},
   "outputs": [],
   "source": [
    "a2=pd.read_excel(r\"C:\\Users\\majet\\Desktop\\Credit_Risk_Modelling\\case_study2.xlsx\")"
   ]
  },
  {
   "cell_type": "code",
   "execution_count": 14,
   "id": "2bb68da1-9cff-46aa-8410-87611ceb6dc2",
   "metadata": {},
   "outputs": [],
   "source": [
    "df1=a1.copy()"
   ]
  },
  {
   "cell_type": "code",
   "execution_count": 15,
   "id": "1d374891-58a3-4642-b3b4-1f3a7b9b2d5c",
   "metadata": {},
   "outputs": [],
   "source": [
    "df2=a2.copy()"
   ]
  },
  {
   "cell_type": "code",
   "execution_count": 45,
   "id": "fd30fc8b-5bdc-4a32-b1fb-462e027fc6b9",
   "metadata": {},
   "outputs": [],
   "source": [
    "# Remove nulls\n",
    "df1 = df1.loc[df1['Age_Oldest_TL'] != -99999]\n",
    "\n",
    "# Removing columns with excessively null values (more than 10,000 occurrences)\n",
    "columns_to_be_removed = []\n",
    "\n",
    "for i in df2.columns:\n",
    "    if df2.loc[df2[i] == -99999].shape[0] > 10000:\n",
    "        columns_to_be_removed .append(i)\n",
    "df2 = df2.drop(columns_to_be_removed, axis =1)\n",
    "\n",
    "for i in df2.columns:\n",
    "    df2 = df2.loc[ df2[i] != -99999 ]\n"
   ]
  },
  {
   "cell_type": "code",
   "execution_count": 47,
   "id": "972ad0e2-a877-411e-b4d0-920fda58bbf3",
   "metadata": {},
   "outputs": [
    {
     "name": "stdout",
     "output_type": "stream",
     "text": [
      "PROSPECTID\n"
     ]
    }
   ],
   "source": [
    "# Checking common column names to combine the datasets\n",
    "for i in list(df1.columns):\n",
    "    if i in list(df2.columns):\n",
    "        print (i)"
   ]
  },
  {
   "cell_type": "code",
   "execution_count": 49,
   "id": "4aff5c19-f95f-480e-a550-30ef7177fae2",
   "metadata": {},
   "outputs": [],
   "source": [
    "df = pd. merge ( df1, df2, how ='inner', left_on = ['PROSPECTID'], right_on = ['PROSPECTID'] )"
   ]
  },
  {
   "cell_type": "code",
   "execution_count": 57,
   "id": "27f86194-d47e-4e03-9461-2f946bab0ea0",
   "metadata": {},
   "outputs": [],
   "source": [
    "# check how many columns are categorical\n",
    "cat=[]\n",
    "for i in df.columns:\n",
    "    if df[i].dtype == 'object':\n",
    "        cat.append(i)\n",
    "\n",
    "#dropping approved flag\n",
    "\n",
    "cat.remove(\"Approved_Flag\")"
   ]
  },
  {
   "cell_type": "code",
   "execution_count": 67,
   "id": "18752cf6-3267-4fce-a646-2299ba35a72c",
   "metadata": {},
   "outputs": [
    {
     "name": "stdout",
     "output_type": "stream",
     "text": [
      "MARITALSTATUS --- 3.578180861038862e-233\n",
      "EDUCATION --- 2.6942265249737532e-30\n",
      "GENDER --- 1.907936100186563e-05\n",
      "last_prod_enq2 --- 0.0\n",
      "first_prod_enq2 --- 7.84997610555419e-287\n"
     ]
    }
   ],
   "source": [
    "# Finding level of significance of each categorical column with target column using Chi-square Test.\n",
    "to_be_kept=[]\n",
    "for i in cat:\n",
    "    chi2, pval, _, _ = chi2_contingency(pd.crosstab(df[i], df['Approved_Flag']))\n",
    "    print(i, '---', pval)\n",
    "    if pval<0.05:\n",
    "        to_be_kept.append(i)"
   ]
  },
  {
   "cell_type": "code",
   "execution_count": 73,
   "id": "2da13b36-95ee-4f5a-a9b0-8fef79c768cb",
   "metadata": {},
   "outputs": [
    {
     "data": {
      "text/plain": [
       "['MARITALSTATUS', 'EDUCATION', 'GENDER', 'last_prod_enq2', 'first_prod_enq2']"
      ]
     },
     "execution_count": 73,
     "metadata": {},
     "output_type": "execute_result"
    }
   ],
   "source": [
    "to_be_kept #Dropping None"
   ]
  },
  {
   "cell_type": "code",
   "execution_count": null,
   "id": "8784d7c9-e29d-4b4c-ab95-c9a7de07e52c",
   "metadata": {},
   "outputs": [],
   "source": []
  }
 ],
 "metadata": {
  "kernelspec": {
   "display_name": "Python 3 (ipykernel)",
   "language": "python",
   "name": "python3"
  },
  "language_info": {
   "codemirror_mode": {
    "name": "ipython",
    "version": 3
   },
   "file_extension": ".py",
   "mimetype": "text/x-python",
   "name": "python",
   "nbconvert_exporter": "python",
   "pygments_lexer": "ipython3",
   "version": "3.12.4"
  }
 },
 "nbformat": 4,
 "nbformat_minor": 5
}
